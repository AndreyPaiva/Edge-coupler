{
 "cells": [
  {
   "cell_type": "markdown",
   "metadata": {},
   "source": [
    "<font size = 6>Imports"
   ]
  },
  {
   "cell_type": "code",
   "execution_count": 1,
   "metadata": {},
   "outputs": [],
   "source": [
    "import numpy as np\n",
    "import matplotlib.pyplot as plt\n",
    "import pandas as pd\n",
    "import pickle as pck\n",
    "import sys \n",
    "import os\n",
    "import importlib.util\n",
    "\n",
    "spec_win = importlib.util.spec_from_file_location('lumapi', 'C:\\\\Program Files\\\\Lumerical\\\\v202\\\\api\\\\python\\\\lumapi.py')\n",
    "lumapi = importlib.util.module_from_spec(spec_win)\n",
    "os.add_dll_directory(\"C:/Program Files/Lumerical/v202/api/python\")\n",
    "sys.path.append(os.path.dirname('C:/Users/andre/Documents/UFCG/Photonics/Arquivos/Edge-coupler'))\n",
    "spec_win.loader.exec_module(lumapi)\n",
    "\n",
    "# spec_win = importlib.util.spec_from_file_location('lumapi', 'C:\\\\Program Files\\\\Lumerical\\\\v221\\\\api\\\\python\\\\lumapi.py')\n",
    "# lumapi = importlib.util.module_from_spec(spec_win)\n",
    "# os.add_dll_directory(\"C:/Program Files/Lumerical/v221/api/python\")\n",
    "# sys.path.append(os.path.dirname('C:/Users/PC/Documents/Photonics/Edge-coupler'))\n",
    "# spec_win.loader.exec_module(lumapi)"
   ]
  },
  {
   "cell_type": "code",
   "execution_count": 2,
   "metadata": {},
   "outputs": [],
   "source": [
    "coupler = lumapi.MODE(filename = 'edge_coupler.lms')"
   ]
  },
  {
   "cell_type": "markdown",
   "metadata": {},
   "source": [
    "<font size = 6>Component Assembly"
   ]
  },
  {
   "cell_type": "code",
   "execution_count": 18,
   "metadata": {},
   "outputs": [],
   "source": [
    "coupler.switchtolayout()\n",
    "coupler.selectall()\n",
    "coupler.delete()\n",
    "\n",
    "coupler.addobject('linear_taper')\n",
    "coupler.set({\n",
    "    'name'          : 'Coupler',\n",
    "    'x'             : 0,\n",
    "    'y'             : 0,\n",
    "    'z'             : 0,\n",
    "    'thickness'     : 220e-9,\n",
    "    'angle_side'    : 90,\n",
    "    'width_l'       : 450e-9,\n",
    "    'width_r'       : 150e-9,\n",
    "    'len'           : 25e-6,\n",
    "    'material'      : 'Si (Silicon) - Palik'\n",
    "})\n",
    "coupler.addrect()\n",
    "coupler.set({\n",
    "    'name'          : 'waveguide',\n",
    "    'x'             : 14.5e-6,\n",
    "    'x span'        : 4e-6,\n",
    "    'y'             : 0,\n",
    "    'y span'        : 150e-9,\n",
    "    'z'             : 0,\n",
    "    'z span'        : 220e-9,\n",
    "    'material'      : 'Si (Silicon) - Palik'\n",
    "})\n",
    "\n",
    "coupler.addfde()\n",
    "coupler.set({\n",
    "    'solver type'               : '2D X normal',\n",
    "    'background material'       : 'SiO2 (Glass) - Palik',\n",
    "    'x'                         : 12.5e-6,\n",
    "    'y'                         : 0,\n",
    "    'y span'                    : 4e-6,\n",
    "    'z'                         : 0,\n",
    "    'z span'                    : 4e-6,\n",
    "    'mesh cells y'              : 400,\n",
    "    'mesh cells z'              : 400,\n",
    "})"
   ]
  },
  {
   "cell_type": "code",
   "execution_count": 20,
   "metadata": {},
   "outputs": [
    {
     "data": {
      "text/plain": [
       "20.0"
      ]
     },
     "execution_count": 20,
     "metadata": {},
     "output_type": "execute_result"
    }
   ],
   "source": [
    "coupler.run()\n",
    "coupler.findmodes()"
   ]
  }
 ],
 "metadata": {
  "kernelspec": {
   "display_name": "Python 3",
   "language": "python",
   "name": "python3"
  },
  "language_info": {
   "codemirror_mode": {
    "name": "ipython",
    "version": 3
   },
   "file_extension": ".py",
   "mimetype": "text/x-python",
   "name": "python",
   "nbconvert_exporter": "python",
   "pygments_lexer": "ipython3",
   "version": "3.11.9"
  }
 },
 "nbformat": 4,
 "nbformat_minor": 2
}
